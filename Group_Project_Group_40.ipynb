{
  "nbformat": 4,
  "nbformat_minor": 0,
  "metadata": {
    "colab": {
      "provenance": [],
      "gpuType": "T4",
      "include_colab_link": true
    },
    "kernelspec": {
      "name": "python3",
      "display_name": "Python 3"
    },
    "language_info": {
      "name": "python"
    },
    "gpuClass": "standard",
    "accelerator": "GPU"
  },
  "cells": [
    {
      "cell_type": "markdown",
      "metadata": {
        "id": "view-in-github",
        "colab_type": "text"
      },
      "source": [
        "<a href=\"https://colab.research.google.com/github/adheeb4/MLNN-Project-Group-40/blob/main/Group_Project_Group_40.ipynb\" target=\"_parent\"><img src=\"https://colab.research.google.com/assets/colab-badge.svg\" alt=\"Open In Colab\"/></a>"
      ]
    },
    {
      "cell_type": "code",
      "execution_count": 2,
      "metadata": {
        "id": "k8n6T_Q1rFxC"
      },
      "outputs": [],
      "source": [
        "import os\n",
        "import numpy as np\n",
        "from PIL import Image\n",
        "from google.colab import drive\n",
        "import matplotlib.pyplot as plt\n",
        "from tensorflow.keras.layers import Input, Conv2D, MaxPooling2D, Dropout, Flatten, Dense\n",
        "from tensorflow.keras import layers, models, optimizers, losses, callbacks,\\\n",
        "                             regularizers\n",
        "from keras.activations import relu, sigmoid\n",
        "from keras.models import Model\n",
        "from tensorflow.keras.preprocessing.image import ImageDataGenerator"
      ]
    },
    {
      "cell_type": "code",
      "source": [
        "drive.mount(\"/content/gdrive\")"
      ],
      "metadata": {
        "colab": {
          "base_uri": "https://localhost:8080/"
        },
        "id": "qKrovw9bGTxb",
        "outputId": "512dfff0-f08d-4306-c5b8-ea4e318ceaef"
      },
      "execution_count": 3,
      "outputs": [
        {
          "output_type": "stream",
          "name": "stdout",
          "text": [
            "Mounted at /content/gdrive\n"
          ]
        }
      ]
    },
    {
      "cell_type": "code",
      "source": [
        "train_directory = \"/content/gdrive/MyDrive/Group_Project_Data 2/Group_Project_Data/Train\"\n",
        "validation_directory = \"/content/gdrive/MyDrive/Group_Project_Data 2/Group_Project_Data/Valid\"\n"
      ],
      "metadata": {
        "id": "8riWANI1r0TU"
      },
      "execution_count": 4,
      "outputs": []
    },
    {
      "cell_type": "code",
      "source": [
        "train_data_gen = ImageDataGenerator(rescale = 1./255, shear_range =0.2, zoom_range = 0.2, horizontal_flip = True)\n",
        "val_data_gen = ImageDataGenerator(rescale = 1./255)"
      ],
      "metadata": {
        "id": "k0Y3gRCFKvzO"
      },
      "execution_count": 5,
      "outputs": []
    },
    {
      "cell_type": "code",
      "source": [
        "train_gen = train_data_gen.flow_from_directory(\n",
        "    train_directory,\n",
        "    target_size = (64, 64),\n",
        "    batch_size = 128,\n",
        "    class_mode = \"binary\",\n",
        "    color_mode = \"grayscale\",\n",
        "    classes =[\"Real\", \"Fake\"],\n",
        "    shuffle=True,\n",
        "    seed=42,\n",
        "    subset = \"training\"\n",
        ")"
      ],
      "metadata": {
        "colab": {
          "base_uri": "https://localhost:8080/"
        },
        "id": "1BXuySiRL9xt",
        "outputId": "f1ca74f2-7525-4a1c-89cc-3c9825862842"
      },
      "execution_count": 6,
      "outputs": [
        {
          "output_type": "stream",
          "name": "stdout",
          "text": [
            "Found 6000 images belonging to 2 classes.\n"
          ]
        }
      ]
    },
    {
      "cell_type": "code",
      "source": [
        "val_gen = val_data_gen.flow_from_directory(\n",
        "    validation_directory,\n",
        "    target_size = (64, 64),\n",
        "    batch_size = 128,\n",
        "    class_mode = \"binary\",\n",
        "    color_mode = \"grayscale\",\n",
        "    classes =[\"Real\", \"Fake\"],\n",
        "    shuffle=False,\n",
        "    seed=42,\n",
        ")"
      ],
      "metadata": {
        "id": "CVCzv2ijuGbv",
        "colab": {
          "base_uri": "https://localhost:8080/"
        },
        "outputId": "2a3804a6-91e7-4fa0-c7cb-3cd0ff716abe"
      },
      "execution_count": 7,
      "outputs": [
        {
          "output_type": "stream",
          "name": "stdout",
          "text": [
            "Found 2000 images belonging to 2 classes.\n"
          ]
        }
      ]
    },
    {
      "cell_type": "code",
      "source": [
        "input_layer = Input((64, 64, 1), name=\"Input\")\n",
        "\n",
        "conv_1 = Conv2D(32, (3, 3), activation=relu, padding=\"same\", name=\"conv_1\")(input_layer)\n",
        "conv_2 = Conv2D(32, (3, 3), activation=relu, padding=\"same\", name=\"conv_2\")(conv_1)\n",
        "pool_1 = MaxPooling2D(pool_size=(2, 2),name=\"pool_1\")(conv_2)\n",
        "dropout1 = Dropout(0.2, name=\"dropout_1\")(pool_1)\n",
        "\n",
        "conv_3 = Conv2D(64, (3, 3), activation=relu, padding=\"same\", name=\"conv_3\")(dropout1)\n",
        "conv_4 = Conv2D(64, (3, 3), activation=relu, padding=\"same\", name=\"conv_4\")(conv_3)\n",
        "pool_2 = MaxPooling2D(pool_size=(2, 2),name=\"pool_2\")(conv_4)\n",
        "dropout_2 = Dropout(0.3, name=\"dropout_2\")(pool_2)\n",
        "\n",
        "conv_5 = Conv2D(128, (3, 3), activation=relu, padding=\"same\", name=\"conv_5\")(dropout_2)\n",
        "conv_6 = Conv2D(128, (3, 3), activation=relu, padding=\"same\", name=\"conv_6\")(conv_5)\n",
        "pool_3 = MaxPooling2D(pool_size=(2, 2),name=\"pool_3\")(conv_6)\n",
        "dropout_3 = Dropout(0.4, name=\"dropout_3\")(pool_3)\n",
        "\n",
        "flat = Flatten(name=\"flat\")(pool_3)\n",
        "fc_1 = Dense(units=512, activation=relu, name=\"fc_1\")(flat)\n",
        "dropout_4 = Dropout(0.5, name=\"dropout_4\")(fc_1)\n",
        "\n",
        "Output = Dense(units=1, activation=sigmoid, name=\"Output\")(fc_1)\n",
        "\n",
        "model = Model(inputs=input_layer, outputs=Output, name=\"Galaxies\")\n",
        "model.summary()"
      ],
      "metadata": {
        "colab": {
          "base_uri": "https://localhost:8080/"
        },
        "id": "FfpdTqUU_GBv",
        "outputId": "cb301ded-3346-4fc4-aafb-ee585e416662"
      },
      "execution_count": 8,
      "outputs": [
        {
          "output_type": "stream",
          "name": "stdout",
          "text": [
            "Model: \"Galaxies\"\n",
            "_________________________________________________________________\n",
            " Layer (type)                Output Shape              Param #   \n",
            "=================================================================\n",
            " Input (InputLayer)          [(None, 64, 64, 1)]       0         \n",
            "                                                                 \n",
            " conv_1 (Conv2D)             (None, 64, 64, 32)        320       \n",
            "                                                                 \n",
            " conv_2 (Conv2D)             (None, 64, 64, 32)        9248      \n",
            "                                                                 \n",
            " pool_1 (MaxPooling2D)       (None, 32, 32, 32)        0         \n",
            "                                                                 \n",
            " dropout_1 (Dropout)         (None, 32, 32, 32)        0         \n",
            "                                                                 \n",
            " conv_3 (Conv2D)             (None, 32, 32, 64)        18496     \n",
            "                                                                 \n",
            " conv_4 (Conv2D)             (None, 32, 32, 64)        36928     \n",
            "                                                                 \n",
            " pool_2 (MaxPooling2D)       (None, 16, 16, 64)        0         \n",
            "                                                                 \n",
            " dropout_2 (Dropout)         (None, 16, 16, 64)        0         \n",
            "                                                                 \n",
            " conv_5 (Conv2D)             (None, 16, 16, 128)       73856     \n",
            "                                                                 \n",
            " conv_6 (Conv2D)             (None, 16, 16, 128)       147584    \n",
            "                                                                 \n",
            " pool_3 (MaxPooling2D)       (None, 8, 8, 128)         0         \n",
            "                                                                 \n",
            " flat (Flatten)              (None, 8192)              0         \n",
            "                                                                 \n",
            " fc_1 (Dense)                (None, 512)               4194816   \n",
            "                                                                 \n",
            " Output (Dense)              (None, 1)                 513       \n",
            "                                                                 \n",
            "=================================================================\n",
            "Total params: 4,481,761\n",
            "Trainable params: 4,481,761\n",
            "Non-trainable params: 0\n",
            "_________________________________________________________________\n"
          ]
        }
      ]
    },
    {
      "cell_type": "code",
      "source": [
        "model.compile(optimizer=optimizers.SGD(), loss=losses.BinaryCrossentropy(), metrics=[\"accuracy\"])"
      ],
      "metadata": {
        "id": "Hog5HyuqMr9W"
      },
      "execution_count": 9,
      "outputs": []
    },
    {
      "cell_type": "code",
      "source": [
        "Early_Stop = callbacks.EarlyStopping(monitor='val_loss', patience=3)\n",
        "history = model.fit(train_gen,\n",
        "                    steps_per_epoch=train_gen.samples // train_gen.batch_size,\n",
        "                    epochs=50,\n",
        "                    validation_data=val_gen,\n",
        "                    validation_steps=val_gen.samples // val_gen.batch_size, callbacks=[Early_Stop])\n",
        "\n"
      ],
      "metadata": {
        "colab": {
          "base_uri": "https://localhost:8080/"
        },
        "id": "_4ZXoQZOUBsF",
        "outputId": "3c9404bb-6fa1-43a0-f8e4-7ab7e1b92086"
      },
      "execution_count": null,
      "outputs": [
        {
          "output_type": "stream",
          "name": "stdout",
          "text": [
            "Epoch 1/50\n",
            "46/46 [==============================] - 2010s 44s/step - loss: 0.6929 - accuracy: 0.5085 - val_loss: 0.6927 - val_accuracy: 0.4839\n",
            "Epoch 2/50\n",
            "46/46 [==============================] - 237s 5s/step - loss: 0.6923 - accuracy: 0.5129 - val_loss: 0.6922 - val_accuracy: 0.5005\n",
            "Epoch 3/50\n",
            "46/46 [==============================] - 235s 5s/step - loss: 0.6919 - accuracy: 0.5085 - val_loss: 0.6917 - val_accuracy: 0.6062\n",
            "Epoch 4/50\n",
            "46/46 [==============================] - 238s 5s/step - loss: 0.6914 - accuracy: 0.5276 - val_loss: 0.6911 - val_accuracy: 0.6698\n",
            "Epoch 5/50\n",
            "46/46 [==============================] - 237s 5s/step - loss: 0.6908 - accuracy: 0.5519 - val_loss: 0.6905 - val_accuracy: 0.8323\n",
            "Epoch 6/50\n",
            "46/46 [==============================] - 234s 5s/step - loss: 0.6903 - accuracy: 0.5656 - val_loss: 0.6898 - val_accuracy: 0.7214\n",
            "Epoch 7/50\n",
            "46/46 [==============================] - 232s 5s/step - loss: 0.6896 - accuracy: 0.6328 - val_loss: 0.6892 - val_accuracy: 0.8042\n",
            "Epoch 8/50\n",
            "46/46 [==============================] - 230s 5s/step - loss: 0.6890 - accuracy: 0.6379 - val_loss: 0.6886 - val_accuracy: 0.8391\n",
            "Epoch 9/50\n",
            "46/46 [==============================] - 230s 5s/step - loss: 0.6880 - accuracy: 0.6381 - val_loss: 0.6875 - val_accuracy: 0.6568\n",
            "Epoch 10/50\n",
            "46/46 [==============================] - 235s 5s/step - loss: 0.6872 - accuracy: 0.6567 - val_loss: 0.6865 - val_accuracy: 0.7292\n",
            "Epoch 11/50\n",
            "46/46 [==============================] - 238s 5s/step - loss: 0.6863 - accuracy: 0.6640 - val_loss: 0.6853 - val_accuracy: 0.7552\n",
            "Epoch 12/50\n",
            "46/46 [==============================] - 233s 5s/step - loss: 0.6848 - accuracy: 0.6148 - val_loss: 0.6839 - val_accuracy: 0.5229\n",
            "Epoch 13/50\n",
            "46/46 [==============================] - 230s 5s/step - loss: 0.6833 - accuracy: 0.6832 - val_loss: 0.6820 - val_accuracy: 0.5865\n",
            "Epoch 14/50\n",
            "46/46 [==============================] - 231s 5s/step - loss: 0.6818 - accuracy: 0.6868 - val_loss: 0.6804 - val_accuracy: 0.8214\n",
            "Epoch 15/50\n",
            " 6/46 [==>...........................] - ETA: 3:14 - loss: 0.6814 - accuracy: 0.6680"
          ]
        }
      ]
    },
    {
      "cell_type": "code",
      "source": [
        "evaluation = model.evaluate(val_gen)\n",
        "print(\"Validation Loss:\", evaluation[0])\n",
        "print(\"Validation Accuracy:\", evaluation[1])"
      ],
      "metadata": {
        "id": "7myjNguc5B-o"
      },
      "execution_count": null,
      "outputs": []
    },
    {
      "cell_type": "code",
      "source": [
        "plt.figure()\n",
        "\n",
        "plt.plot(history.history[\"loss\"], label=\"Training\")\n",
        "plt.plot(history.history[\"val_loss\"], label=\"Validation\")\n",
        "plt.xlabel(\"Epochs\")\n",
        "plt.ylabel(\"Loss\")\n",
        "plt.legend(loc=0)\n",
        "plt.title(\"Model Loss\")\n",
        "plt.show()\n",
        "\n",
        "plt.figure()\n",
        "plt.plot(history.history[\"accuracy\"], label=\"Training\")\n",
        "plt.plot(history.history[\"val_accuracy\"], label=\"Validation\")\n",
        "plt.xlabel(\"Epochs\")\n",
        "plt.ylabel(\"Accuracy\")\n",
        "plt.legend(loc=0)\n",
        "plt.title(\"Model Accuracy\")\n",
        "\n",
        "\n",
        "plt.show()\n"
      ],
      "metadata": {
        "id": "RWOWpS-KjqBo"
      },
      "execution_count": null,
      "outputs": []
    },
    {
      "cell_type": "code",
      "source": [
        "class_names = list(val_gen.class_indices.keys())\n",
        "x_val, y_val = next(val_gen)\n",
        "# y_pred = model.predict(x_val)\n",
        "# threshold = 0.5\n",
        "# y_pred_label = np.where(y_pred >= threshold, 1, 0)\n",
        "\n",
        "\n",
        "\n",
        "# f, ax = plt.subplots(5, 5, figsize=(15, 17))\n",
        "# ax = ax.flatten()\n",
        "\n",
        "# for i in range(25):\n",
        "#     ax[i].imshow(x_val[i, :, :, 0], cmap='gray')\n",
        "#     ax[i].set_title(f'Truth = {class_names[int(y_val[i])]}\\nPrediction = {class_names[int(y_pred_label[i])]}')\n",
        "#     ax[i].set_xticks([])\n",
        "#     ax[i].set_yticks([])\n",
        "\n",
        "# plt.show()"
      ],
      "metadata": {
        "id": "wGR1J2lUZNWU"
      },
      "execution_count": 1,
      "outputs": []
    },
    {
      "cell_type": "code",
      "source": [
        "f, ax = plt.subplots(5,5, figsize=(15, 17))\n",
        "ax = ax.flatten()\n",
        "\n",
        "for i in range(25):\n",
        "    ax[i].imshow(x_val[i,:,:,0])\n",
        "    ax[i].set_title(f'Truth = {class_names[y_val[i][0]]}\\nPrediction = {class_names[y_pred_label[i]]}')\n",
        "    ax[i].set_xticks([])\n",
        "    ax[i].set_yticks([])\n",
        "\n",
        "plt.show()"
      ],
      "metadata": {
        "id": "oVc8woEd_k-3"
      },
      "execution_count": null,
      "outputs": []
    }
  ]
}