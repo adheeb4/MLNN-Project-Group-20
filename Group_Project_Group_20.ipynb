{
  "nbformat": 4,
  "nbformat_minor": 0,
  "metadata": {
    "colab": {
      "provenance": [],
      "gpuType": "T4",
      "include_colab_link": true
    },
    "kernelspec": {
      "name": "python3",
      "display_name": "Python 3"
    },
    "language_info": {
      "name": "python"
    },
    "gpuClass": "standard",
    "accelerator": "GPU"
  },
  "cells": [
    {
      "cell_type": "markdown",
      "metadata": {
        "id": "view-in-github",
        "colab_type": "text"
      },
      "source": [
        "<a href=\"https://colab.research.google.com/github/adheeb4/MLNN-Project-Group-20/blob/main/Group_Project_Group_20.ipynb\" target=\"_parent\"><img src=\"https://colab.research.google.com/assets/colab-badge.svg\" alt=\"Open In Colab\"/></a>"
      ]
    },
    {
      "cell_type": "code",
      "execution_count": 1,
      "metadata": {
        "id": "k8n6T_Q1rFxC"
      },
      "outputs": [],
      "source": [
        "import os\n",
        "import numpy as np\n",
        "from PIL import Image\n",
        "from google.colab import drive\n",
        "import matplotlib.pyplot as plt\n",
        "from tensorflow.keras.layers import Input, Conv2D, MaxPooling2D, Dropout, Flatten, Dense\n",
        "from tensorflow.keras import layers, models, optimizers, losses, callbacks,\\\n",
        "                             regularizers\n",
        "from keras.activations import relu, sigmoid\n",
        "from keras.models import Model\n",
        "from tensorflow.keras.preprocessing.image import ImageDataGenerator"
      ]
    },
    {
      "cell_type": "code",
      "source": [
        "drive.mount(\"/content/gdrive\")"
      ],
      "metadata": {
        "colab": {
          "base_uri": "https://localhost:8080/"
        },
        "id": "qKrovw9bGTxb",
        "outputId": "ac5ebd7c-2827-41b5-c196-de35da69ed0e"
      },
      "execution_count": null,
      "outputs": [
        {
          "output_type": "stream",
          "name": "stdout",
          "text": [
            "Mounted at /content/gdrive\n"
          ]
        }
      ]
    },
    {
      "cell_type": "code",
      "source": [
        "train_directory = \"/content/gdrive/MyDrive/Group_Project_Data 2/Group_Project_Data/Train\"\n",
        "validation_directory = \"/content/gdrive/MyDrive/Group_Project_Data 2/Group_Project_Data/Valid\"\n"
      ],
      "metadata": {
        "id": "8riWANI1r0TU"
      },
      "execution_count": null,
      "outputs": []
    },
    {
      "cell_type": "code",
      "source": [
        "train_data_gen = ImageDataGenerator(rescale = 1./255, shear_range =0.2, zoom_range = 0.2, horizontal_flip = True)\n",
        "val_data_gen = ImageDataGenerator(rescale = 1./255)"
      ],
      "metadata": {
        "id": "k0Y3gRCFKvzO"
      },
      "execution_count": null,
      "outputs": []
    },
    {
      "cell_type": "code",
      "source": [
        "train_gen = train_data_gen.flow_from_directory(\n",
        "    train_directory,\n",
        "    target_size = (64, 64),\n",
        "    batch_size = 64,\n",
        "    class_mode = \"binary\",\n",
        "    classes =[\"Real\", \"Fake\"],\n",
        "    shuffle=True,\n",
        "    seed=42,\n",
        "    subset = \"training\"\n",
        ")"
      ],
      "metadata": {
        "colab": {
          "base_uri": "https://localhost:8080/"
        },
        "id": "1BXuySiRL9xt",
        "outputId": "adb1b2fc-c4c4-4dc9-a202-9ac4860be6bd"
      },
      "execution_count": null,
      "outputs": [
        {
          "output_type": "stream",
          "name": "stdout",
          "text": [
            "Found 6000 images belonging to 2 classes.\n"
          ]
        }
      ]
    },
    {
      "cell_type": "code",
      "source": [
        "val_gen = val_data_gen.flow_from_directory(\n",
        "    validation_directory,\n",
        "    target_size = (64, 64),\n",
        "    batch_size = 64,\n",
        "    class_mode = \"binary\",\n",
        "    classes =[\"Real\", \"Fake\"],\n",
        "    shuffle=False,\n",
        "    seed=42,\n",
        ")"
      ],
      "metadata": {
        "id": "CVCzv2ijuGbv",
        "colab": {
          "base_uri": "https://localhost:8080/"
        },
        "outputId": "dc1fc4cd-5d05-43b3-ad1f-6b593b410924"
      },
      "execution_count": null,
      "outputs": [
        {
          "output_type": "stream",
          "name": "stdout",
          "text": [
            "Found 2000 images belonging to 2 classes.\n"
          ]
        }
      ]
    },
    {
      "cell_type": "code",
      "source": [
        "input_layer = Input((64, 64, 1), name=\"Input\")\n",
        "\n",
        "conv_1 = Conv2D(32, (3, 3), activation=relu, padding=\"same\", name=\"conv_1\")(input_layer)\n",
        "conv_2 = Conv2D(32, (3, 3), activation=relu, padding=\"same\", name=\"conv_2\")(conv_1)\n",
        "pool_1 = MaxPooling2D(pool_size=(2, 2),name=\"pool_1\")(conv_2)\n",
        "dropout1 = Dropout(0.2, name=\"dropout_1\")(pool_1)\n",
        "\n",
        "conv_3 = Conv2D(64, (3, 3), activation=relu, padding=\"same\", name=\"conv_3\")(dropout1)\n",
        "conv_4 = Conv2D(64, (3, 3), activation=relu, padding=\"same\", name=\"conv_4\")(conv_3)\n",
        "pool_2 = MaxPooling2D(pool_size=(2, 2),name=\"pool_2\")(conv_4)\n",
        "dropout_2 = Dropout(0.3, name=\"dropout_2\")(pool_2)\n",
        "\n",
        "conv_5 = Conv2D(128, (3, 3), activation=relu, padding=\"same\", name=\"conv_5\")(dropout_2)\n",
        "conv_6 = Conv2D(128, (3, 3), activation=relu, padding=\"same\", name=\"conv_6\")(conv_5)\n",
        "pool_3 = MaxPooling2D(pool_size=(2, 2),name=\"pool_3\")(conv_6)\n",
        "dropout_3 = Dropout(0.4, name=\"dropout_3\")(pool_2)\n",
        "\n",
        "flat = Flatten(name=\"flat\")(pool_3)\n",
        "fc_1 = Dense(units=512, activation=relu, name=\"fc_1\")(flat)\n",
        "dropout_4 = Dropout(0.5, name=\"dropout_4\")(fc_1)\n",
        "\n",
        "Output = Dense(units=1, activation=sigmoid, name=\"Output\")(fc_1)\n",
        "\n",
        "model = Model(inputs=input_layer, outputs=Output, name=\"Galaxies\")\n",
        "model.summary()"
      ],
      "metadata": {
        "colab": {
          "base_uri": "https://localhost:8080/"
        },
        "id": "FfpdTqUU_GBv",
        "outputId": "83c62ab2-82af-4498-9189-f45f8d4d5d4f"
      },
      "execution_count": null,
      "outputs": [
        {
          "output_type": "stream",
          "name": "stdout",
          "text": [
            "Model: \"Galaxies\"\n",
            "_________________________________________________________________\n",
            " Layer (type)                Output Shape              Param #   \n",
            "=================================================================\n",
            " Input (InputLayer)          [(None, 256, 256, 3)]     0         \n",
            "                                                                 \n",
            " conv_1 (Conv2D)             (None, 256, 256, 32)      896       \n",
            "                                                                 \n",
            " conv_2 (Conv2D)             (None, 256, 256, 32)      9248      \n",
            "                                                                 \n",
            " pool_1 (MaxPooling2D)       (None, 128, 128, 32)      0         \n",
            "                                                                 \n",
            " conv_3 (Conv2D)             (None, 128, 128, 64)      18496     \n",
            "                                                                 \n",
            " conv_4 (Conv2D)             (None, 128, 128, 64)      36928     \n",
            "                                                                 \n",
            " pool_2 (MaxPooling2D)       (None, 64, 64, 64)        0         \n",
            "                                                                 \n",
            " conv_5 (Conv2D)             (None, 64, 64, 128)       73856     \n",
            "                                                                 \n",
            " conv_6 (Conv2D)             (None, 64, 64, 128)       147584    \n",
            "                                                                 \n",
            " pool_3 (MaxPooling2D)       (None, 32, 32, 128)       0         \n",
            "                                                                 \n",
            " flat (Flatten)              (None, 131072)            0         \n",
            "                                                                 \n",
            " fc_1 (Dense)                (None, 512)               67109376  \n",
            "                                                                 \n",
            " Output (Dense)              (None, 1)                 513       \n",
            "                                                                 \n",
            "=================================================================\n",
            "Total params: 67,396,897\n",
            "Trainable params: 67,396,897\n",
            "Non-trainable params: 0\n",
            "_________________________________________________________________\n"
          ]
        }
      ]
    },
    {
      "cell_type": "code",
      "source": [
        "Early_Stop = callbacks.EarlyStopping(monitor='val_loss', patience=3)\n",
        "\n",
        "model.compile(optimizer=optimizers.Adam(), loss=losses.BinaryCrossentropy(), metrics=[\"accuracy\"], callbacks=[Early_Stop])"
      ],
      "metadata": {
        "id": "Hog5HyuqMr9W"
      },
      "execution_count": null,
      "outputs": []
    },
    {
      "cell_type": "code",
      "source": [
        "\n",
        "Early_Stop = callbacks.EarlyStopping(monitor='val_loss', patience=3)\n",
        "optimizers=[SGD, RMSprop, Nadam]\n",
        "learning_rates=[0.01, 0.001, 0.0001]\n",
        "histories = [[None]*len(learning_rates) for _ in range(len(optimizers))]\n",
        "\n",
        "for i, optimizer in enumerate(optimizers):\n",
        "    for j, lr in enumerate(learning_rates):\n",
        "        print(\"Optimizer: \"+str(optimizer.__name__)+\", Learning Rate:\"+\n",
        "              str(learning_rates[j]))\n",
        "        reinitialize(cifar_model)\n",
        "        cifar_model.compile(optimizer=optimizer(lr), \n",
        "                            loss=losses.SparseCategoricalCrossentropy(),\n",
        "                            metrics=[\"accuracy\"])\n",
        "        history = cifar_model.fit(x=x_train, y=y_train, epochs=52, \n",
        "                                  validation_data=(x_test, y_test), \n",
        "                                  batch_size=128, callbacks=[Early_Stop])\n",
        "        histories[i][j]=history"
      ],
      "metadata": {
        "id": "LtHKeoqQkFkd"
      },
      "execution_count": null,
      "outputs": []
    },
    {
      "cell_type": "code",
      "source": [
        "history = model.fit(train_gen,\n",
        "                    steps_per_epoch=train_gen.samples // train_gen.batch_size,\n",
        "                    epochs=10,\n",
        "                    validation_data=val_gen,\n",
        "                    validation_steps=val_gen.samples // val_gen.batch_size)\n",
        "\n",
        "test\n",
        "test1"
      ],
      "metadata": {
        "colab": {
          "base_uri": "https://localhost:8080/"
        },
        "id": "_4ZXoQZOUBsF",
        "outputId": "df82b596-0e86-4d5c-f95f-cc13ac813715"
      },
      "execution_count": null,
      "outputs": [
        {
          "output_type": "stream",
          "name": "stdout",
          "text": [
            "93/93 [==============================] - 144s 1s/step - loss: 0.1863 - accuracy: 0.9153 - val_loss: 0.0150 - val_accuracy: 0.9975\n",
            "Epoch 2/10\n",
            "93/93 [==============================] - 116s 1s/step - loss: 0.0425 - accuracy: 0.9855 - val_loss: 0.0132 - val_accuracy: 0.9950\n",
            "Epoch 3/10\n",
            "93/93 [==============================] - 119s 1s/step - loss: 0.0115 - accuracy: 0.9968 - val_loss: 0.0033 - val_accuracy: 0.9995\n",
            "Epoch 4/10\n",
            "93/93 [==============================] - 116s 1s/step - loss: 0.0486 - accuracy: 0.9877 - val_loss: 0.0137 - val_accuracy: 0.9955\n",
            "Epoch 5/10\n",
            "93/93 [==============================] - 115s 1s/step - loss: 0.0166 - accuracy: 0.9938 - val_loss: 0.0108 - val_accuracy: 0.9970\n",
            "Epoch 6/10\n",
            "93/93 [==============================] - 115s 1s/step - loss: 0.0053 - accuracy: 0.9975 - val_loss: 0.0052 - val_accuracy: 0.9990\n",
            "Epoch 7/10\n",
            "93/93 [==============================] - 116s 1s/step - loss: 0.0037 - accuracy: 0.9995 - val_loss: 7.7639e-04 - val_accuracy: 1.0000\n",
            "Epoch 8/10\n",
            "93/93 [==============================] - 112s 1s/step - loss: 8.8564e-04 - accuracy: 0.9998 - val_loss: 4.9211e-04 - val_accuracy: 0.9995\n",
            "Epoch 9/10\n",
            "93/93 [==============================] - 114s 1s/step - loss: 0.0048 - accuracy: 0.9988 - val_loss: 2.1890e-04 - val_accuracy: 1.0000\n",
            "Epoch 10/10\n",
            "93/93 [==============================] - 116s 1s/step - loss: 0.0019 - accuracy: 0.9992 - val_loss: 0.0177 - val_accuracy: 0.9945\n"
          ]
        }
      ]
    },
    {
      "cell_type": "code",
      "source": [
        "for i in range(len(optimizers)):\n",
        "  for j in range(len(learning_rates)):\n",
        "\n",
        "    plt.figure()\n",
        "    plt.plot(histories[i][j].history[\"loss\"], label=\"Training\")\n",
        "    plt.plot(histories[i][j].history[\"val_loss\"], label=\"Validation\")\n",
        "    plt.xlabel(\"Number of Epochs\")\n",
        "    plt.ylabel(\"Loss\")\n",
        "    plt.legend(loc=0)\n",
        "    plt.title(\"Model Loss\\n\"+\"Optimizer: \"+str(optimizers[i].__name__)+\n",
        "              \", Learning Rate: \"+str(learning_rates[j]))\n",
        "\n",
        "    plt.figure()\n",
        "    plt.plot(histories[i][j].history[\"accuracy\"], label=\"Training\")\n",
        "    plt.plot(histories[i][j].history[\"val_accuracy\"], label=\"Validation\")\n",
        "    plt.xlabel(\"Number of Epochs\")\n",
        "    plt.ylabel(\"Accuracy\")\n",
        "    plt.legend(loc=0)\n",
        "    plt.title(\"Model Accuracy\\n\"+\"Optimizer: \"+str(optimizers[i].__name__)+\n",
        "              \", Learning Rate: \"+str(learning_rates[j]))\n",
        "\n",
        "\n",
        "    plt.show()\n"
      ],
      "metadata": {
        "id": "RWOWpS-KjqBo"
      },
      "execution_count": null,
      "outputs": []
    }
  ]
}