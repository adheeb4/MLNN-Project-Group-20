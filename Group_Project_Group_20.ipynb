{
  "nbformat": 4,
  "nbformat_minor": 0,
  "metadata": {
    "colab": {
      "provenance": [],
      "gpuType": "T4",
      "include_colab_link": true
    },
    "kernelspec": {
      "name": "python3",
      "display_name": "Python 3"
    },
    "language_info": {
      "name": "python"
    },
    "gpuClass": "standard",
    "accelerator": "GPU"
  },
  "cells": [
    {
      "cell_type": "markdown",
      "metadata": {
        "id": "view-in-github",
        "colab_type": "text"
      },
      "source": [
        "<a href=\"https://colab.research.google.com/github/adheeb4/MLNN-Project-Group-20/blob/main/Group_Project_Group_20.ipynb\" target=\"_parent\"><img src=\"https://colab.research.google.com/assets/colab-badge.svg\" alt=\"Open In Colab\"/></a>"
      ]
    },
    {
      "cell_type": "code",
      "execution_count": 12,
      "metadata": {
        "id": "k8n6T_Q1rFxC"
      },
      "outputs": [],
      "source": [
        "import os\n",
        "import numpy as np\n",
        "from PIL import Image\n",
        "from google.colab import drive\n",
        "import matplotlib.pyplot as plt\n",
        "from tensorflow.keras.layers import Input, Conv2D, MaxPooling2D, Dropout, Flatten, Dense\n",
        "from tensorflow.keras import layers, models, optimizers, losses, callbacks,\\\n",
        "                             regularizers\n",
        "from keras.activations import relu, sigmoid\n",
        "from keras.models import Model\n",
        "from tensorflow.keras.preprocessing.image import ImageDataGenerator"
      ]
    },
    {
      "cell_type": "code",
      "source": [
        "drive.mount(\"/content/gdrive\")"
      ],
      "metadata": {
        "colab": {
          "base_uri": "https://localhost:8080/"
        },
        "id": "qKrovw9bGTxb",
        "outputId": "80c5fe9a-73f8-4793-9d69-244333138390"
      },
      "execution_count": 13,
      "outputs": [
        {
          "output_type": "stream",
          "name": "stdout",
          "text": [
            "Drive already mounted at /content/gdrive; to attempt to forcibly remount, call drive.mount(\"/content/gdrive\", force_remount=True).\n"
          ]
        }
      ]
    },
    {
      "cell_type": "code",
      "source": [
        "train_directory = \"/content/gdrive/MyDrive/Group_Project_Data 2/Group_Project_Data/Train\"\n",
        "validation_directory = \"/content/gdrive/MyDrive/Group_Project_Data 2/Group_Project_Data/Valid\"\n"
      ],
      "metadata": {
        "id": "8riWANI1r0TU"
      },
      "execution_count": 14,
      "outputs": []
    },
    {
      "cell_type": "code",
      "source": [
        "train_data_gen = ImageDataGenerator(rescale = 1./255, shear_range =0.2, zoom_range = 0.2, horizontal_flip = True)\n",
        "val_data_gen = ImageDataGenerator(rescale = 1./255)"
      ],
      "metadata": {
        "id": "k0Y3gRCFKvzO"
      },
      "execution_count": 15,
      "outputs": []
    },
    {
      "cell_type": "code",
      "source": [
        "train_gen = train_data_gen.flow_from_directory(\n",
        "    train_directory,\n",
        "    target_size = (64, 64),\n",
        "    batch_size = 64,\n",
        "    class_mode = \"binary\",\n",
        "    color_mode = \"grayscale\",\n",
        "    classes =[\"Real\", \"Fake\"],\n",
        "    shuffle=True,\n",
        "    seed=42,\n",
        "    subset = \"training\"\n",
        ")"
      ],
      "metadata": {
        "colab": {
          "base_uri": "https://localhost:8080/"
        },
        "id": "1BXuySiRL9xt",
        "outputId": "017eb6de-8a42-449b-8663-7706884158c5"
      },
      "execution_count": 16,
      "outputs": [
        {
          "output_type": "stream",
          "name": "stdout",
          "text": [
            "Found 6000 images belonging to 2 classes.\n"
          ]
        }
      ]
    },
    {
      "cell_type": "code",
      "source": [
        "val_gen = val_data_gen.flow_from_directory(\n",
        "    validation_directory,\n",
        "    target_size = (64, 64),\n",
        "    batch_size = 64,\n",
        "    class_mode = \"binary\",\n",
        "    color_mode = \"grayscale\",\n",
        "    classes =[\"Real\", \"Fake\"],\n",
        "    shuffle=False,\n",
        "    seed=42,\n",
        ")"
      ],
      "metadata": {
        "id": "CVCzv2ijuGbv",
        "colab": {
          "base_uri": "https://localhost:8080/"
        },
        "outputId": "6dc0a6df-bf2c-418f-d4f8-e85f8f891c55"
      },
      "execution_count": 17,
      "outputs": [
        {
          "output_type": "stream",
          "name": "stdout",
          "text": [
            "Found 2000 images belonging to 2 classes.\n"
          ]
        }
      ]
    },
    {
      "cell_type": "code",
      "source": [
        "input_layer = Input((64, 64, 1), name=\"Input\")\n",
        "\n",
        "conv_1 = Conv2D(32, (3, 3), activation=relu, padding=\"same\", name=\"conv_1\")(input_layer)\n",
        "conv_2 = Conv2D(32, (3, 3), activation=relu, padding=\"same\", name=\"conv_2\")(conv_1)\n",
        "pool_1 = MaxPooling2D(pool_size=(2, 2),name=\"pool_1\")(conv_2)\n",
        "dropout1 = Dropout(0.2, name=\"dropout_1\")(pool_1)\n",
        "\n",
        "conv_3 = Conv2D(64, (3, 3), activation=relu, padding=\"same\", name=\"conv_3\")(dropout1)\n",
        "conv_4 = Conv2D(64, (3, 3), activation=relu, padding=\"same\", name=\"conv_4\")(conv_3)\n",
        "pool_2 = MaxPooling2D(pool_size=(2, 2),name=\"pool_2\")(conv_4)\n",
        "dropout_2 = Dropout(0.3, name=\"dropout_2\")(pool_2)\n",
        "\n",
        "conv_5 = Conv2D(128, (3, 3), activation=relu, padding=\"same\", name=\"conv_5\")(dropout_2)\n",
        "conv_6 = Conv2D(128, (3, 3), activation=relu, padding=\"same\", name=\"conv_6\")(conv_5)\n",
        "pool_3 = MaxPooling2D(pool_size=(2, 2),name=\"pool_3\")(conv_6)\n",
        "dropout_3 = Dropout(0.4, name=\"dropout_3\")(pool_2)\n",
        "\n",
        "flat = Flatten(name=\"flat\")(pool_3)\n",
        "fc_1 = Dense(units=512, activation=relu, name=\"fc_1\")(flat)\n",
        "dropout_4 = Dropout(0.5, name=\"dropout_4\")(fc_1)\n",
        "\n",
        "Output = Dense(units=1, activation=sigmoid, name=\"Output\")(fc_1)\n",
        "\n",
        "model = Model(inputs=input_layer, outputs=Output, name=\"Galaxies\")\n",
        "model.summary()"
      ],
      "metadata": {
        "colab": {
          "base_uri": "https://localhost:8080/"
        },
        "id": "FfpdTqUU_GBv",
        "outputId": "be7b44be-b477-4a6f-ee8d-5ba3ddf4eb1c"
      },
      "execution_count": 18,
      "outputs": [
        {
          "output_type": "stream",
          "name": "stdout",
          "text": [
            "Model: \"Galaxies\"\n",
            "_________________________________________________________________\n",
            " Layer (type)                Output Shape              Param #   \n",
            "=================================================================\n",
            " Input (InputLayer)          [(None, 64, 64, 1)]       0         \n",
            "                                                                 \n",
            " conv_1 (Conv2D)             (None, 64, 64, 32)        320       \n",
            "                                                                 \n",
            " conv_2 (Conv2D)             (None, 64, 64, 32)        9248      \n",
            "                                                                 \n",
            " pool_1 (MaxPooling2D)       (None, 32, 32, 32)        0         \n",
            "                                                                 \n",
            " dropout_1 (Dropout)         (None, 32, 32, 32)        0         \n",
            "                                                                 \n",
            " conv_3 (Conv2D)             (None, 32, 32, 64)        18496     \n",
            "                                                                 \n",
            " conv_4 (Conv2D)             (None, 32, 32, 64)        36928     \n",
            "                                                                 \n",
            " pool_2 (MaxPooling2D)       (None, 16, 16, 64)        0         \n",
            "                                                                 \n",
            " dropout_2 (Dropout)         (None, 16, 16, 64)        0         \n",
            "                                                                 \n",
            " conv_5 (Conv2D)             (None, 16, 16, 128)       73856     \n",
            "                                                                 \n",
            " conv_6 (Conv2D)             (None, 16, 16, 128)       147584    \n",
            "                                                                 \n",
            " pool_3 (MaxPooling2D)       (None, 8, 8, 128)         0         \n",
            "                                                                 \n",
            " flat (Flatten)              (None, 8192)              0         \n",
            "                                                                 \n",
            " fc_1 (Dense)                (None, 512)               4194816   \n",
            "                                                                 \n",
            " Output (Dense)              (None, 1)                 513       \n",
            "                                                                 \n",
            "=================================================================\n",
            "Total params: 4,481,761\n",
            "Trainable params: 4,481,761\n",
            "Non-trainable params: 0\n",
            "_________________________________________________________________\n"
          ]
        }
      ]
    },
    {
      "cell_type": "code",
      "source": [
        "model.compile(optimizer=optimizers.SGD(), loss=losses.BinaryCrossentropy(), metrics=[\"accuracy\"])"
      ],
      "metadata": {
        "id": "Hog5HyuqMr9W"
      },
      "execution_count": 21,
      "outputs": []
    },
    {
      "cell_type": "code",
      "source": [
        "Early_Stop = callbacks.EarlyStopping(monitor='val_loss', patience=3)\n",
        "history = model.fit(train_gen,\n",
        "                    steps_per_epoch=train_gen.samples // train_gen.batch_size,\n",
        "                    epochs=50,\n",
        "                    validation_data=val_gen,\n",
        "                    validation_steps=val_gen.samples // val_gen.batch_size, callbacks=[Early_Stop])\n",
        "\n"
      ],
      "metadata": {
        "colab": {
          "base_uri": "https://localhost:8080/"
        },
        "id": "_4ZXoQZOUBsF",
        "outputId": "728dbb76-7cb5-4770-8a51-5058b9ed709a"
      },
      "execution_count": null,
      "outputs": [
        {
          "output_type": "stream",
          "name": "stdout",
          "text": [
            "Epoch 1/50\n",
            "14/93 [===>..........................] - ETA: 14:57 - loss: 0.7090 - accuracy: 0.5145"
          ]
        }
      ]
    },
    {
      "cell_type": "code",
      "source": [
        "for i in range(len(optimizers)):\n",
        "  for j in range(len(learning_rates)):\n",
        "\n",
        "    plt.figure()\n",
        "    plt.plot(histories[i][j].history[\"loss\"], label=\"Training\")\n",
        "    plt.plot(histories[i][j].history[\"val_loss\"], label=\"Validation\")\n",
        "    plt.xlabel(\"Number of Epochs\")\n",
        "    plt.ylabel(\"Loss\")\n",
        "    plt.legend(loc=0)\n",
        "    plt.title(\"Model Loss\\n\"+\"Optimizer: \"+str(optimizers[i].__name__)+\n",
        "              \", Learning Rate: \"+str(learning_rates[j]))\n",
        "\n",
        "    plt.figure()\n",
        "    plt.plot(histories[i][j].history[\"accuracy\"], label=\"Training\")\n",
        "    plt.plot(histories[i][j].history[\"val_accuracy\"], label=\"Validation\")\n",
        "    plt.xlabel(\"Number of Epochs\")\n",
        "    plt.ylabel(\"Accuracy\")\n",
        "    plt.legend(loc=0)\n",
        "    plt.title(\"Model Accuracy\\n\"+\"Optimizer: \"+str(optimizers[i].__name__)+\n",
        "              \", Learning Rate: \"+str(learning_rates[j]))\n",
        "\n",
        "\n",
        "    plt.show()\n"
      ],
      "metadata": {
        "id": "RWOWpS-KjqBo"
      },
      "execution_count": null,
      "outputs": []
    }
  ]
}